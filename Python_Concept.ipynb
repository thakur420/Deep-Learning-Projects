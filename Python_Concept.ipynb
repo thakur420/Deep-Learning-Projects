{
  "nbformat": 4,
  "nbformat_minor": 0,
  "metadata": {
    "colab": {
      "provenance": []
    },
    "kernelspec": {
      "name": "python3",
      "display_name": "Python 3"
    },
    "language_info": {
      "name": "python"
    }
  },
  "cells": [
    {
      "cell_type": "markdown",
      "source": [
        "## Table of Contents\n",
        "- [1-Decorator](#1)\n",
        "- [2-Iterable & Iterator](#2)\n",
        "- [3-Generator](#3)"
      ],
      "metadata": {
        "id": "TeeTzOEMAOmP"
      }
    },
    {
      "cell_type": "markdown",
      "source": [
        "<a name='1'></a>\n",
        "## 1 - Decorator"
      ],
      "metadata": {
        "id": "uyrOgNZ76Dwd"
      }
    },
    {
      "cell_type": "markdown",
      "metadata": {
        "id": "e3cfbe50"
      },
      "source": [
        "### Decorator\n",
        "\n",
        "A **Decorator** modifies functions without changing their core code. It wraps functions with extra features.\n",
        "\n",
        "*   **Why use Decorators?**\n",
        "    *   Add reusable functionality (logging, timing, etc.) to multiple functions easily.\n",
        "    *   Separate core logic from added features.\n",
        "    *   Improve code readability and maintenance by avoiding repetition.\n",
        "\n",
        "*   **How do they work?**\n",
        "    *   A decorator is a function that takes a function and returns a new, enhanced function.\n",
        "    *   The `@decorator_name` syntax is a shortcut for applying the decorator.\n",
        "\n",
        "*   **When to use them?**\n",
        "    *   When repeating code at the start/end of functions (like logging).\n",
        "    *   To add features to existing functions without modifying them.\n",
        "    *   Common uses: logging, timing, access control, caching."
      ]
    },
    {
      "cell_type": "markdown",
      "source": [
        "### 1. Problem without using decorator"
      ],
      "metadata": {
        "id": "_UJe3SDDnrfi"
      }
    },
    {
      "cell_type": "code",
      "execution_count": null,
      "metadata": {
        "colab": {
          "base_uri": "https://localhost:8080/"
        },
        "id": "hJfKUCGGj-6p",
        "outputId": "66efb8e1-ca1b-4ca1-bb4b-ead0c8ab282a"
      },
      "outputs": [
        {
          "output_type": "stream",
          "name": "stdout",
          "text": [
            "Calling add with 2, 3\n",
            "5\n",
            "Calling multiply with 2, 3\n",
            "6\n",
            "Calling divide with 10, 2\n",
            "5.0\n"
          ]
        }
      ],
      "source": [
        "def add(a, b):\n",
        "    print(f\"Calling add with {a}, {b}\")   # logging\n",
        "    return a + b\n",
        "\n",
        "def multiply(a, b):\n",
        "    print(f\"Calling multiply with {a}, {b}\")   # logging\n",
        "    return a * b\n",
        "\n",
        "def divide(a, b):\n",
        "    print(f\"Calling divide with {a}, {b}\")   # logging\n",
        "    if b == 0:\n",
        "        return \"Error\"\n",
        "    return a / b\n",
        "\n",
        "\n",
        "print(add(2, 3))\n",
        "print(multiply(2, 3))\n",
        "print(divide(10, 2))"
      ]
    },
    {
      "cell_type": "markdown",
      "source": [
        "### Problem with above code:\n",
        "  - Repeated print(...) in every function.\n",
        "  - If logging format changes, we must update all functions.\n",
        "  - Code is harder to maintain."
      ],
      "metadata": {
        "id": "MEv12OvOoAJr"
      }
    },
    {
      "cell_type": "markdown",
      "source": [
        "### Closure Object:\n",
        "* When a **function** is defined inside another function, it captures variables from the enclosing scope, and Python keeps them alive as long as the inner function exists.\n",
        "* The inner **function** doesn’t directly get **argument** instead, it has access to **argument** through closure binding.\n",
        "    * `innerfunction.__closure__ `  and `innerfunction.__closure__[0].cell_contents`  \n"
      ],
      "metadata": {
        "id": "qrKYjKuldo4G"
      }
    },
    {
      "cell_type": "markdown",
      "source": [
        "### Solution 1 - Manual Wrapper Method"
      ],
      "metadata": {
        "id": "Weu6ioOboRrD"
      }
    },
    {
      "cell_type": "code",
      "source": [
        "def log_wrapper(func):\n",
        "  def wrapper(*args, **kwargs):\n",
        "    print(f\"Calling {func.__name__} with {args}, {kwargs}\")\n",
        "    return func(*args, **kwargs)\n",
        "  return wrapper\n",
        "\n",
        "def add(a, b):\n",
        "    return a + b\n",
        "\n",
        "def multiply(a, b):\n",
        "    return a * b\n",
        "\n",
        "def divide(a, b):\n",
        "    if b == 0:\n",
        "        return \"Error\"\n",
        "    return a / b\n",
        "\n",
        "# Manually wrap each method\n",
        "add = log_wrapper(add)\n",
        "# Inspect closure\n",
        "print(add.__closure__)                # tuple of cell objects\n",
        "print(add.__closure__[0].cell_contents)  # actual value stored\n",
        "\n",
        "multiply = log_wrapper(multiply)\n",
        "divide = log_wrapper(divide)\n",
        "\n",
        "\n",
        "print(add(2, 3))\n",
        "print(multiply(2, 3))\n",
        "print(divide(10, 2))"
      ],
      "metadata": {
        "colab": {
          "base_uri": "https://localhost:8080/"
        },
        "id": "vNhqhUU9oN1t",
        "outputId": "9c005965-01b6-4282-806d-a1bdd6dd269f"
      },
      "execution_count": 1,
      "outputs": [
        {
          "output_type": "stream",
          "name": "stdout",
          "text": [
            "(<cell at 0x7adc89d62560: function object at 0x7adc89d79da0>,)\n",
            "<function add at 0x7adc89d79da0>\n",
            "Calling add with (2, 3), {}\n",
            "5\n",
            "Calling multiply with (2, 3), {}\n",
            "6\n",
            "Calling divide with (10, 2), {}\n",
            "5.0\n"
          ]
        }
      ]
    },
    {
      "cell_type": "markdown",
      "source": [
        "### Better but still has problems:\n",
        "  - We must remember to reassign (add = log_wrapper(add)).\n",
        "  - Code is a little cleaner, but still repetitive."
      ],
      "metadata": {
        "id": "UzT9-KMkpfht"
      }
    },
    {
      "cell_type": "markdown",
      "source": [
        "### Solution 1 - Using decorator"
      ],
      "metadata": {
        "id": "5EMbiGOept0k"
      }
    },
    {
      "cell_type": "code",
      "source": [
        "def log_decorator(func):\n",
        "  def wrapper(*args, **kwargs):\n",
        "    print(f\"Calling {func.__name__} with {args}, {kwargs}\")\n",
        "    return func(*args, **kwargs)\n",
        "  return wrapper\n",
        "\n",
        "@log_decorator\n",
        "def add(a, b):\n",
        "    return a + b\n",
        "\n",
        "@log_decorator\n",
        "def multiply(a, b):\n",
        "    return a * b\n",
        "\n",
        "@log_decorator\n",
        "def divide(a, b):\n",
        "    if b == 0:\n",
        "        return \"Error\"\n",
        "    return a / b\n",
        "\n",
        "print(add(2, 3))\n",
        "print(multiply(2, 3))\n",
        "print(divide(10, 2))"
      ],
      "metadata": {
        "colab": {
          "base_uri": "https://localhost:8080/"
        },
        "id": "jT0b9CxfpmUU",
        "outputId": "72ef0b88-7d8b-445b-f62c-11e1ce7717e2"
      },
      "execution_count": null,
      "outputs": [
        {
          "output_type": "stream",
          "name": "stdout",
          "text": [
            "Calling add with (2, 3), {}\n",
            "5\n",
            "Calling multiply with (2, 3), {}\n",
            "6\n",
            "Calling divide with (10, 2), {}\n",
            "5.0\n"
          ]
        }
      ]
    },
    {
      "cell_type": "markdown",
      "source": [
        "### Conclusion\n",
        "\n",
        "| Approach | Pros | Cons |\n",
        "|----------|------|------|\n",
        "| **Without decorator (logging inside function)** | Simple, straightforward | Repetition, hard to maintain |\n",
        "| **Wrapper without @** | Separation of logic, reusable wrapper | Still need manual reassignment (`fn = wrapper(fn)`) |\n",
        "| **With decorator (@)** | Cleanest, most Pythonic, minimal code changes, reusable | Slightly harder to learn at first |\n"
      ],
      "metadata": {
        "id": "AsEexWBCqc06"
      }
    },
    {
      "cell_type": "markdown",
      "source": [
        "<a name='2'></a>\n",
        "## 2 - Iterable and Iterator"
      ],
      "metadata": {
        "id": "7CoYuBxK-MOh"
      }
    },
    {
      "cell_type": "markdown",
      "metadata": {
        "id": "6305d282"
      },
      "source": [
        "### Iterable\n",
        "\n",
        "An **Iterable** is an object in Python that can be looped over. It's like a container of items you can access one by one.\n",
        "\n",
        "*   **Why use Iterables?**\n",
        "    *   Allows processing collections without knowing the structure (list, tuple, string, etc.).\n",
        "    *   Used by `for` loops and functions like `sum()`, `max()`, `min()`.\n",
        "    *   Provides a standard way for sequential access.\n",
        "\n",
        "*   **How do they work?**\n",
        "    *   An object is iterable if it has an `__iter__` method.\n",
        "    *   `iter()` on an iterable returns an **Iterator**. (See `hasattr` examples in the code below).\n",
        "\n",
        "*   **When to use them?**\n",
        "    *   When looping through elements of lists, strings, dictionary keys, etc.\n",
        "    *   When writing functions to work with different types of sequences generically.\n",
        "    *   `for` loops use iterables by calling `iter()` and then `next()`."
      ]
    },
    {
      "cell_type": "code",
      "source": [
        "mylist = [1,2,3]\n",
        "mytuple = (1,2,3)\n",
        "mystring = \"abc\"\n",
        "myint = 10\n",
        "print(hasattr(mylist, \"__iter__\"))\n",
        "print(hasattr(mytuple, \"__iter__\"))\n",
        "print(hasattr(mystring, \"__iter__\"))\n",
        "print(hasattr(myint, \"__iter__\"))"
      ],
      "metadata": {
        "colab": {
          "base_uri": "https://localhost:8080/"
        },
        "id": "jcCAw9XU-QcK",
        "outputId": "44654b7c-21bb-4c09-97f9-2dd91ecf3ce3"
      },
      "execution_count": null,
      "outputs": [
        {
          "output_type": "stream",
          "name": "stdout",
          "text": [
            "True\n",
            "True\n",
            "True\n",
            "False\n"
          ]
        }
      ]
    },
    {
      "cell_type": "markdown",
      "metadata": {
        "id": "7995108b"
      },
      "source": [
        "### Iterator\n",
        "\n",
        "An **Iterator** is an object in Python that represents a stream of data. It keeps track of where it is in the sequence and how to get the next item.\n",
        "\n",
        "*   **Why use Iterators?**\n",
        "    *   Memory efficient for large datasets (accesses one item at a time).\n",
        "    *   Maintains iteration state.\n",
        "    *   Powers `for` loops.\n",
        "\n",
        "*   **How do they work?**\n",
        "    *   Must have `__iter__` (returns self) and `__next__` methods.\n",
        "    *   `__next__` gets the next item.\n",
        "    *   Raises `StopIteration` when done.\n",
        "    *   `iter(mylist)` returns an iterator with both methods.\n",
        "\n",
        "*   **When to use them?**\n",
        "    *   Rarely created directly unless building custom structures.\n",
        "    *   Implicitly used by `for` loops and other iteration tools.\n",
        "    *   Manually use `iter()` and `next()` for fine-grained control."
      ]
    },
    {
      "cell_type": "code",
      "source": [
        "mylist = [1,2,3,4,5]\n",
        "print(f'mylist is Iteratable : {hasattr(mylist, \"__iter__\")}')\n",
        "print(f'mylist is Iterator : {hasattr(mylist, \"__next__\")}')\n",
        "\n",
        "it = iter(mylist)\n",
        "print(f'iter(mylist) is Iteratable : {hasattr(it, \"__iter__\")}')\n",
        "print(f'iter(mylist) is Iterator : {hasattr(it, \"__next__\")}')\n",
        "\n",
        "# Custom For Loop\n",
        "while True:\n",
        "  try:\n",
        "    print(next(it))\n",
        "  except StopIteration:\n",
        "    #print(\"End of iteration\")\n",
        "    break"
      ],
      "metadata": {
        "colab": {
          "base_uri": "https://localhost:8080/"
        },
        "id": "MAFVrjLP-w3P",
        "outputId": "12b9d773-5321-41b7-d092-516e86330a04"
      },
      "execution_count": 2,
      "outputs": [
        {
          "output_type": "stream",
          "name": "stdout",
          "text": [
            "mylist is Iteratable : True\n",
            "mylist is Iterator : False\n",
            "iter(mylist) is Iteratable : True\n",
            "iter(mylist) is Iterator : True\n",
            "1\n",
            "2\n",
            "3\n",
            "4\n",
            "5\n"
          ]
        }
      ]
    },
    {
      "cell_type": "markdown",
      "source": [
        "### Simple Custom Iterable & Iterator"
      ],
      "metadata": {
        "id": "lgvHGLioA6JN"
      }
    },
    {
      "cell_type": "code",
      "source": [
        "class CountDown:\n",
        "  def __init__(self, start):\n",
        "    self.start = start\n",
        "\n",
        "  def __iter__(self):\n",
        "    return CountDownIterator(self.start)  # returns an iterator\n",
        "\n",
        "class CountDownIterator:\n",
        "  def __init__(self, start):\n",
        "    self.current = start\n",
        "\n",
        "  def __iter__(self):\n",
        "    return self\n",
        "\n",
        "  def __next__(self):\n",
        "    if self.current <= 0:\n",
        "      raise StopIteration\n",
        "    num = self.current\n",
        "    self.current -= 1\n",
        "    return num\n",
        "\n",
        "for i in CountDown(5):\n",
        "  print(i)"
      ],
      "metadata": {
        "colab": {
          "base_uri": "https://localhost:8080/"
        },
        "id": "tF0gwv-wA7iU",
        "outputId": "03e50542-6341-4357-9b6c-218ba040fd4c"
      },
      "execution_count": 3,
      "outputs": [
        {
          "output_type": "stream",
          "name": "stdout",
          "text": [
            "5\n",
            "4\n",
            "3\n",
            "2\n",
            "1\n"
          ]
        }
      ]
    },
    {
      "cell_type": "markdown",
      "source": [
        "### Custom Range Function"
      ],
      "metadata": {
        "id": "lYaXvsNaKojw"
      }
    },
    {
      "cell_type": "code",
      "source": [
        "class Myrange:\n",
        "  def __init__(self, start, end=None): # Make end optional and default to None\n",
        "    if end is None:\n",
        "      self.start = 0 # If only one argument is given, start from 0\n",
        "      self.end = start # The single argument is the end\n",
        "    else:\n",
        "      self.start = start\n",
        "      self.end = end\n",
        "\n",
        "  def __iter__(self):\n",
        "    return MyrangeIterator(self.start, self.end)\n",
        "\n",
        "\n",
        "\n",
        "class MyrangeIterator:\n",
        "  def __init__(self, start, end):\n",
        "    self.current = start\n",
        "    self.end = end\n",
        "\n",
        "  def __iter__(self):\n",
        "    return self\n",
        "\n",
        "  def __next__(self):\n",
        "    if self.current > self.end - 1:\n",
        "      raise StopIteration\n",
        "    num = self.current\n",
        "    self.current += 1\n",
        "    return num\n",
        "\n",
        "print(\"Myrange(1,5):\")\n",
        "for i in Myrange(1,5):\n",
        "  print(i)\n",
        "\n",
        "print(\"\\nMyrange(5):\") # Test with a single argument\n",
        "for i in Myrange(5):\n",
        "  print(i)"
      ],
      "metadata": {
        "colab": {
          "base_uri": "https://localhost:8080/"
        },
        "id": "I6SsaZfGKkYa",
        "outputId": "b100580a-087d-46f2-99c3-2919793fe95a"
      },
      "execution_count": 8,
      "outputs": [
        {
          "output_type": "stream",
          "name": "stdout",
          "text": [
            "Myrange(1,5):\n",
            "1\n",
            "2\n",
            "3\n",
            "4\n",
            "\n",
            "Myrange(5):\n",
            "0\n",
            "1\n",
            "2\n",
            "3\n",
            "4\n"
          ]
        }
      ]
    },
    {
      "cell_type": "markdown",
      "metadata": {
        "id": "5b97df91"
      },
      "source": [
        "<a name='3'></a>\n",
        "## 3 - Generator"
      ]
    },
    {
      "cell_type": "markdown",
      "metadata": {
        "id": "268354e2"
      },
      "source": [
        "### Generator\n",
        "\n",
        "A **Generator** is a special type of function in Python that allows you to create iterators in a simpler way. They are defined using the `yield` keyword instead of `return`.\n",
        "\n",
        "* **What are Generators?**\n",
        "  * Functions that produce a sequence of results over time, rather than computing them all at once and returning a list.\n",
        "  * They \"yield\" one item at a time, pausing execution and saving their state until the next item is requested.\n",
        "* **Why use Generators?**\n",
        "  * **Memory Efficiency:** Generators are excellent for working with large datasets or infinite sequences because they don't store the entire sequence in memory. They generate values on the fly.\n",
        "  * **Readability and Simplicity:** Writing iterators with generators is often more concise and easier to read than implementing the `__iter__` and `__next__` methods manually.\n",
        "  * **Lazy Evaluation:** Values are only computed when they are needed, which can save computation time for large or complex sequences.\n",
        "* **How do they work?**\n",
        "  * When a generator function is called, it doesn't execute immediately. It returns a generator object.\n",
        "  * The code inside the generator function runs only when `next()` is called on the generator object (either explicitly or implicitly by a `for` loop).\n",
        "  * The `yield` keyword pauses the function's execution and sends a value back to the caller. The state of the function (local variables, instruction pointer) is saved.\n",
        "  * When `next()` is called again, the function resumes from where it left off, continuing until the next `yield` or `return`.\n",
        "  * If the function finishes without yielding or explicitly returns, a `StopIteration` exception is raised."
      ]
    },
    {
      "cell_type": "markdown",
      "metadata": {
        "id": "7a407a68"
      },
      "source": [
        "### Squares without Generator"
      ]
    },
    {
      "cell_type": "code",
      "metadata": {
        "colab": {
          "base_uri": "https://localhost:8080/"
        },
        "id": "53074f8d",
        "outputId": "56ddcb57-b482-4c2b-b760-796e28df48be"
      },
      "source": [
        "class Squares:\n",
        "  def __init__(self, limit):\n",
        "    self.limit = limit\n",
        "\n",
        "  def __iter__(self):\n",
        "    return SquaresIterator(self.limit)\n",
        "\n",
        "class SquaresIterator:\n",
        "  def __init__(self, limit):\n",
        "    self.limit = limit\n",
        "    self.current = 0\n",
        "\n",
        "  def __iter__(self):\n",
        "    return self\n",
        "\n",
        "  def __next__(self):\n",
        "    if self.current >= self.limit:\n",
        "      raise StopIteration\n",
        "    num = self.current * self.current\n",
        "    self.current += 1\n",
        "    return num\n",
        "\n",
        "print(\"Squares without Generator:\")\n",
        "for i in Squares(5):\n",
        "  print(i)"
      ],
      "execution_count": 9,
      "outputs": [
        {
          "output_type": "stream",
          "name": "stdout",
          "text": [
            "Squares without Generator:\n",
            "0\n",
            "1\n",
            "4\n",
            "9\n",
            "16\n"
          ]
        }
      ]
    },
    {
      "cell_type": "markdown",
      "metadata": {
        "id": "a8d5793c"
      },
      "source": [
        "### Squares with Generator"
      ]
    },
    {
      "cell_type": "code",
      "metadata": {
        "colab": {
          "base_uri": "https://localhost:8080/"
        },
        "id": "74a8e2e9",
        "outputId": "ed89fbf3-239a-4174-aa57-77a900ba2ed6"
      },
      "source": [
        "def squares_generator(limit):\n",
        "  for i in range(limit):\n",
        "    yield i * i\n",
        "\n",
        "print(\"\\nSquares with Generator:\")\n",
        "for i in squares_generator(5):\n",
        "  print(i)"
      ],
      "execution_count": 10,
      "outputs": [
        {
          "output_type": "stream",
          "name": "stdout",
          "text": [
            "\n",
            "Squares with Generator:\n",
            "0\n",
            "1\n",
            "4\n",
            "9\n",
            "16\n"
          ]
        }
      ]
    },
    {
      "cell_type": "markdown",
      "metadata": {
        "id": "4e87923a"
      },
      "source": [
        "### Data Generator for Deep Learning\n",
        "\n",
        "In deep learning, generators are frequently used to feed data to models in batches, especially with large datasets. This is because loading the entire dataset into memory at once can be infeasible. A generator can yield one batch at a time, saving memory."
      ]
    },
    {
      "cell_type": "code",
      "metadata": {
        "colab": {
          "base_uri": "https://localhost:8080/"
        },
        "id": "bfb8a623",
        "outputId": "3d04fd97-6deb-4b0b-ab19-439d40ef39ea"
      },
      "source": [
        "import numpy as np\n",
        "\n",
        "# Assume we have a very large dataset (simulated here)\n",
        "# In a real scenario, this would involve loading data from disk\n",
        "def load_large_dataset(num_samples=100000, input_dim=100):\n",
        "    print(f\"Simulating loading a large dataset with {num_samples} samples...\")\n",
        "    # Simulate loading data - in a real scenario, this might read from files\n",
        "    return np.random.rand(num_samples, input_dim), np.random.randint(0, 2, num_samples)\n",
        "\n",
        "# Data generator function\n",
        "def data_generator(data, labels, batch_size):\n",
        "    num_samples = len(data)\n",
        "    i = 0\n",
        "    while True: # Loop infinitely for training (keras expects this)\n",
        "        batch_data = data[i:i + batch_size]\n",
        "        batch_labels = labels[i:i + batch_size]\n",
        "        i = (i + batch_size) % num_samples # Move to the next batch, loop back if needed\n",
        "        yield batch_data, batch_labels\n",
        "\n",
        "# --- How you might use this generator ---\n",
        "\n",
        "# 1. Load the (simulated) large dataset\n",
        "X, y = load_large_dataset()\n",
        "\n",
        "# 2. Create the generator\n",
        "batch_size = 32\n",
        "train_generator = data_generator(X, y, batch_size)\n",
        "\n",
        "# 3. Use the generator (e.g., in a training loop or with Keras/TensorFlow .fit())\n",
        "\n",
        "# Simulate getting a few batches\n",
        "print(\"\\nGetting the first few batches from the generator:\")\n",
        "for _ in range(3):\n",
        "    batch_X, batch_y = next(train_generator)\n",
        "    print(f\"Shape of batch_X: {batch_X.shape}, Shape of batch_y: {batch_y.shape}\")\n",
        "\n",
        "# In a deep learning framework like Keras, you would pass this generator\n",
        "# to model.fit(generator=train_generator, steps_per_epoch=...)\n",
        "# The framework would automatically call next() on the generator to get batches."
      ],
      "execution_count": 11,
      "outputs": [
        {
          "output_type": "stream",
          "name": "stdout",
          "text": [
            "Simulating loading a large dataset with 100000 samples...\n",
            "\n",
            "Getting the first few batches from the generator:\n",
            "Shape of batch_X: (32, 100), Shape of batch_y: (32,)\n",
            "Shape of batch_X: (32, 100), Shape of batch_y: (32,)\n",
            "Shape of batch_X: (32, 100), Shape of batch_y: (32,)\n"
          ]
        }
      ]
    }
  ]
}